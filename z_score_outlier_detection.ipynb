{
 "cells": [
  {
   "cell_type": "code",
   "execution_count": 13,
   "id": "9a6a3a73",
   "metadata": {},
   "outputs": [],
   "source": [
    "import numpy as np\n",
    "import pandas as pd\n"
   ]
  },
  {
   "cell_type": "code",
   "execution_count": 25,
   "id": "229816a6",
   "metadata": {},
   "outputs": [],
   "source": [
    "data = np.array([37, 93, 66, 5, 3, 173, 15, 2, 142, 68, 149, 154, 7,\n",
    "                 128, 129, 116, 195, 49, 196, 34, 182, 72, 36, 135, 13, 114,\n",
    "                 162, 2, 137, 36, 190, 178, 124, 51, 28, 136, 128, 60, 80,\n",
    "                 139, 94, 57, 182, 97, 117, 71, 26, 43, 63, 76, 177, 103,\n",
    "                 59, 50, 22, 30, 49, 15, 42, 119, 172, 89, 97, 149, 116,\n",
    "                 87, 83, 138, 23, 13, 131, 196, 68, 144, 154, 34, 22, 80,\n",
    "                 120, 49, 38, 124, 51, 142, 128, 96, 111, 149,8393])\n"
   ]
  },
  {
   "cell_type": "code",
   "execution_count": 26,
   "id": "2567a908",
   "metadata": {},
   "outputs": [
    {
     "name": "stdout",
     "output_type": "stream",
     "text": [
      "Outliers: [8393]\n"
     ]
    }
   ],
   "source": [
    "\n",
    "def outlier_detection(data):\n",
    "    result = []\n",
    "    threshold = 3\n",
    "    mean = np.mean(data)\n",
    "    std = np.std(data)\n",
    "    for i in data:\n",
    "        z_score = (i - mean) / std\n",
    "        if abs(z_score) > threshold:\n",
    "            result.append(i)\n",
    "    return result\n",
    "\n",
    "# Checking for outliers\n",
    "outliers = outlier_detection(data)\n",
    "\n",
    "print(\"Outliers:\", outliers)"
   ]
  },
  {
   "cell_type": "code",
   "execution_count": 27,
   "id": "954bb6c5",
   "metadata": {},
   "outputs": [
    {
     "name": "stdout",
     "output_type": "stream",
     "text": [
      "[8393]\n"
     ]
    }
   ],
   "source": [
    "print(outlier_detection(data))"
   ]
  },
  {
   "cell_type": "code",
   "execution_count": null,
   "id": "aaa25177",
   "metadata": {},
   "outputs": [],
   "source": []
  }
 ],
 "metadata": {
  "kernelspec": {
   "display_name": "Python 3 (ipykernel)",
   "language": "python",
   "name": "python3"
  },
  "language_info": {
   "codemirror_mode": {
    "name": "ipython",
    "version": 3
   },
   "file_extension": ".py",
   "mimetype": "text/x-python",
   "name": "python",
   "nbconvert_exporter": "python",
   "pygments_lexer": "ipython3",
   "version": "3.11.7"
  }
 },
 "nbformat": 4,
 "nbformat_minor": 5
}
